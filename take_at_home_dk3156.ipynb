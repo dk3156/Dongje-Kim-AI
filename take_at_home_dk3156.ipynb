{
  "cells": [
    {
      "cell_type": "markdown",
      "metadata": {
        "id": "view-in-github",
        "colab_type": "text"
      },
      "source": [
        "<a href=\"https://colab.research.google.com/github/dk3156/Dongje-Kim-CS4613/blob/main/take_at_home_dk3156.ipynb\" target=\"_parent\"><img src=\"https://colab.research.google.com/assets/colab-badge.svg\" alt=\"Open In Colab\"/></a>"
      ]
    },
    {
      "cell_type": "markdown",
      "metadata": {
        "id": "nja-wpZy18Uj"
      },
      "source": [
        "# Midterm - Spring 2023\n",
        "\n",
        "## Problem 1: Take-at-home  (45 points total)\n",
        "\n",
        "You are applying for a position at the data science team of USDA and you are given data associated with determining appropriate parasite treatment of canines. The suggested treatment options are determined based on a **logistic regression** model that predicts if the canine is infected with a parasite. \n",
        "\n",
        "The data is given in the site: https://data.world/ehales/grls-parasite-study/workspace/file?filename=CBC_data.csv  and more specifically in the CBC_data.csv file. Login using you University Google account to access the data and the description that includes a paper on the study (**you dont need to read the paper to solve this problem**). Your target variable $y$ column is titled `parasite_status`. \n",
        "\n",
        "\n"
      ]
    },
    {
      "cell_type": "markdown",
      "metadata": {
        "id": "PV4SluVO18Ul"
      },
      "source": [
        "### Question 1 - Feature Engineering (5 points)\n",
        "\n",
        "Write the posterior probability expressions for logistic regression for the problem you are given to solve."
      ]
    },
    {
      "cell_type": "markdown",
      "metadata": {
        "id": "hR4IGQXQ18Ul"
      },
      "source": [
        "$$p(y=1| \\mathbf{x}, \\mathbf w)= \\frac{1}{1 + e^{(-w^T x)}}$$ \n",
        "\n",
        "$$p(y=0| \\mathbf{x}, \\mathbf w)= 1 - \\frac{1}{1 + e^{(-w^T x)}}$$ "
      ]
    },
    {
      "cell_type": "markdown",
      "source": [],
      "metadata": {
        "id": "zVMjUv3W2NdV"
      }
    },
    {
      "cell_type": "markdown",
      "metadata": {
        "id": "pH-UXLI-18Um"
      },
      "source": [
        "\n",
        "\n",
        "### Question 2 - Decision Boundary (5 points)\n",
        "\n",
        "Write the expression for the decision boundary assuming that $p(y=1)=p(y=0)$. The decision boundary is the line that separates the two classes.\n",
        "\n",
        "\n",
        "\n"
      ]
    },
    {
      "cell_type": "markdown",
      "metadata": {
        "id": "UP2r4Hde18Um"
      },
      "source": [
        "$$w_{1}x_{1} + w_{2}x_{2} + w_{3}x_{3} ... + w_{m}x_{m} = 0$$\n",
        "for m is total number of observations"
      ]
    },
    {
      "cell_type": "markdown",
      "metadata": {
        "id": "tgjYFlBI18Um"
      },
      "source": [
        "\n",
        "\n",
        "### Question 3 - Loss function (5 points)\n",
        "\n",
        "Write the expression of the loss as a function of $\\mathbf w$ that makes sense for you to use in this problem. \n",
        "\n",
        "NOTE: The loss will be a function that will include this function: \n",
        "\n",
        "$$\\sigma(a) = \\frac{1}{1+e^{-a}}$$\n",
        "\n"
      ]
    },
    {
      "cell_type": "markdown",
      "metadata": {
        "id": "cnfzLI1A18Un"
      },
      "source": [
        "Let $$ b = \\sigma(w^T x)$$\n",
        "Then,\n",
        "$$L_{CE} = -\\frac{1}{m} \\Sigma_{i=1}^{m} (ylog(b) + (1-y)log(1-b)) $$\n",
        "\n",
        "when m is total number of observations"
      ]
    },
    {
      "cell_type": "markdown",
      "metadata": {
        "id": "EN_Jo0Ns18Un"
      },
      "source": [
        "\n",
        "### Question 4 - Gradient (5 points)\n",
        "\n",
        "Write the expression of the gradient of the loss with respect to the parameters - show all your work.\n",
        "\n"
      ]
    },
    {
      "cell_type": "markdown",
      "metadata": {
        "id": "LOjbt94X18Un"
      },
      "source": [
        "\n",
        "Let $$ z = w^T x $$ \n",
        "Let $$ b = \\sigma(z)$$\n",
        "Let L be a loss function for a single observation.\n",
        "\n",
        "$$ L =  -[ylog(b) + (1 - y)log(1 - b)]$$\n",
        "\n",
        "First we caculate derivative of the loss function for single observation. \n",
        "\n",
        "We calculate $$\\frac{dL}{dw_{1}}$$ \n",
        "$$$$\n",
        "\n",
        "$$\\frac{dL}{dw_{1}} = \\frac{dL}{db} * \\frac{db}{dw_{1}} = \\frac{dL}{db} * \\frac{db}{dz} * \\frac{dz}{dw_{1}}$$ \n",
        "\n",
        "$$$$\n",
        "$$ \\frac{dL}{db} = \\frac{-y}{b} - \\frac{1-y}{1-b}$$\n",
        "$$$$\n",
        "\n",
        "$$ \\frac{db}{dz} = \\frac{e^{-z}}{(1 + e^{-z})^2}$$\n",
        "$$$$\n",
        "\n",
        "Substitute $$ e^{-z} = \\frac{(1 - b)}{b}$$ and $$ \\frac{1}{(1+e^{-z})^2} = b^2 $$ to \n",
        "\n",
        "$$\\frac{e^{-z}}{(1 + e^{-z})^2}$$\n",
        "\n",
        "Then, \n",
        "\n",
        "$$ \\frac{db}{dz} =  \\frac{(1-b)  b^2}{b} = (1 - b)b $$\n",
        "\n",
        "$$$$\n",
        "$$\\frac{dz}{dw} = x + 0 = x$$\n",
        "\n",
        "Therefore,\n",
        "$$\\frac{dL}{dw} = (\\frac{-y}{b} + \\frac{1-y}{1-b}) * b (1 - b) * x = \\frac{-y + by + b -by}{b(1-b)} * b (1 - b) * x = (b-y)x$$\n",
        "\n",
        "Consequently\n",
        "\n",
        "$$\\frac{dL}{dw_{1}} = (b - y) x_{1}$$\n",
        "$$\\frac{dL}{dw_{2}} = (b - y) x_{2}$$\n",
        "...\n",
        "$$\\frac{dL}{dw_{n}} = (b - y) x_{n}$$\n",
        "$$$$\n",
        "$$ \\nabla_\\mathbf w L_{CE} = \\frac{dL}{dW} = (A - Y) X$$\n",
        "$$$$\n",
        "for W is a matrix consisted of all coefficients\n",
        "$$$$\n",
        "for A is a matrix consisted of all predictions\n",
        "$$$$\n",
        "for Y is a matrix consisted of all output values\n",
        "$$$$\n",
        "for X is a matrix consisted of all input values\n"
      ]
    },
    {
      "cell_type": "markdown",
      "metadata": {
        "id": "rNFIszwm18Uo"
      },
      "source": [
        "### Question 5 - Imbalanced dataset (10 points)\n",
        "\n",
        "You are now told that in the dataset  \n",
        "\n",
        "$$p(y=0) >> p(y=1)$$\n",
        "\n",
        "Can you comment if the accuracy of Logistic Regression will be affected by such imbalance?\n",
        "\n"
      ]
    },
    {
      "cell_type": "markdown",
      "metadata": {
        "id": "tFZmEA-W18Uo"
      },
      "source": [
        "Because the dataset is imbalanced in favor of y = 0, training the logistic regression model with such imbalanced dataset will result in inaccurate prediction. In this case, the logistic Regression will heavily favor the result of 0. \n",
        "\n",
        "One way to prevent this problem is to modify the model to take the skewed distribution into account. This can be achieved by specifying a class weighting configuration that is used to influence the amount that logistic regression coefficients are updated during training."
      ]
    },
    {
      "cell_type": "markdown",
      "metadata": {
        "id": "G0igKc5Z18Uo"
      },
      "source": []
    },
    {
      "cell_type": "markdown",
      "metadata": {
        "id": "NFI4gXvB18Uo"
      },
      "source": []
    },
    {
      "cell_type": "markdown",
      "metadata": {
        "id": "EyfdQhW418Uo"
      },
      "source": [
        "\n",
        "### Question 6 - SGD (15 points)\n",
        "\n",
        "The interviewer was impressed with your answers and wants to test your programming skills. \n",
        "\n",
        "1. Use the dataset to train a logistic regressor that will predict the target variable $y$. \n",
        "\n",
        " 2. Report the harmonic mean of precision (p) and recall (r) i.e the  [metric called $F_1$ score](https://en.wikipedia.org/wiki/F-score) that is calculated as shown below using a test dataset that is 20% of each group. Plot the $F_1$ score vs the iteration number  $t$. \n",
        "\n",
        "$$F_1 = \\frac{2}{r^{-1} + p^{-1}}$$\n",
        "\n",
        "Your code includes hyperparameter optimization of the learning rate and mini batch size. Please learn about cross validation which is a splitting strategy for tuning models [here](https://scikit-learn.org/stable/modules/cross_validation.html).\n",
        "\n",
        "You are allowed to use any library you want to code this problem.\n",
        "\n"
      ]
    },
    {
      "cell_type": "code",
      "execution_count": null,
      "metadata": {
        "id": "Rgd8L51G18Up",
        "colab": {
          "base_uri": "https://localhost:8080/",
          "height": 428
        },
        "outputId": "62306fee-5fcb-4771-de93-f0c27f5b6fa4"
      },
      "outputs": [
        {
          "output_type": "stream",
          "name": "stderr",
          "text": [
            "/usr/local/lib/python3.9/dist-packages/pandas/core/generic.py:5516: SettingWithCopyWarning: \n",
            "A value is trying to be set on a copy of a slice from a DataFrame.\n",
            "Try using .loc[row_indexer,col_indexer] = value instead\n",
            "\n",
            "See the caveats in the documentation: https://pandas.pydata.org/pandas-docs/stable/user_guide/indexing.html#returning-a-view-versus-a-copy\n",
            "  self[name] = value\n"
          ]
        },
        {
          "output_type": "stream",
          "name": "stdout",
          "text": [
            "0.48420153714773695\n"
          ]
        },
        {
          "output_type": "display_data",
          "data": {
            "text/plain": [
              "<Figure size 432x288 with 1 Axes>"
            ],
            "image/png": "[encoded data removed]"
          },
          "metadata": {
            "needs_background": "light"
          }
        },
        {
          "output_type": "stream",
          "name": "stdout",
          "text": [
            "0.9387417218543046\n"
          ]
        }
      ],
      "source": [
        "from pandas.core import describe\n",
        "# write your code here\n",
        "import numpy as np\n",
        "import pandas as pd\n",
        "from sklearn.model_selection import train_test_split\n",
        "from sklearn.linear_model import LogisticRegression\n",
        "from sklearn import metrics\n",
        "from sklearn import preprocessing\n",
        "from sklearn.model_selection import cross_val_score\n",
        "from sklearn.metrics import f1_score\n",
        "import matplotlib.pyplot as plt\n",
        "\n",
        "pd.set_option('display.max_rows', None)\n",
        "\n",
        "col_names = ['id', 'sex', 'typearea', 'sex_repro', 'repro_status', 'age', 'parasite_status', 'rbc','hgb','wbc','eos_cnt','mono_cnt','nut_cnt','pl_cnt','lymp_cnt']\n",
        "db = pd.read_csv(\"./sample_data/CBC_data.csv\", skiprows=1, header=None, names=col_names)\n",
        "db.dropna()\n",
        "\n",
        "names = ['sex', 'typearea', 'sex_repro', 'repro_status']\n",
        "X = db[names]\n",
        "X.sex= X.sex.astype('category').cat.codes\n",
        "X.typearea= X.typearea.astype('category').cat.codes\n",
        "X.sex_repro= X.sex_repro.astype('category').cat.codes\n",
        "X.repro_status= X.repro_status.astype('category').cat.codes\n",
        "y = db.parasite_status.astype('category').cat.codes\n",
        "\n",
        " \n",
        "X_train, X_test, y_train, y_test = train_test_split(X, y, test_size=0.2, random_state=16)\n",
        "# a = X_train.isnull()\n",
        "# print(a)\n",
        "regression = LogisticRegression()\n",
        "regression.fit(X_train, y_train)\n",
        "y_pred = regression.predict(X_test)\n",
        "y_test = y_test.to_numpy()\n",
        "score = f1_score(y_test, y_pred, average='macro')\n",
        "\n",
        "iter = []\n",
        "f1 = []\n",
        "for i in range(y_pred.size):\n",
        "  iter.append(i)\n",
        "  f1.append(score)\n",
        "\n",
        "plt.plot(iter)\n",
        "plt.plot(f1)\n",
        "plt.show()\n",
        "\n",
        "# for i in range(y_pred.size):\n",
        "#   scores = f1_score(y_test[i], y_pred[i], average='macro')\n",
        "#   print(scores)\n",
        "\n",
        "def accuracy(y_pred, y_test):\n",
        "  return np.sum(y_pred==y_test)/len(y_test)\n",
        "\n",
        "acc = accuracy(y_pred, y_test)\n",
        "print(acc)"
      ]
    },
    {
      "cell_type": "code",
      "source": [],
      "metadata": {
        "id": "DEESgMuHZIGL"
      },
      "execution_count": null,
      "outputs": []
    }
  ],
  "metadata": {
    "kernelspec": {
      "display_name": "Python 3",
      "language": "python",
      "name": "python3"
    },
    "language_info": {
      "name": "python",
      "version": "3.11.2"
    },
    "orig_nbformat": 4,
    "vscode": {
      "interpreter": {
        "hash": "aee8b7b246df8f9039afb4144a1f6fd8d2ca17a180786b69acc140d282b71a49"
      }
    },
    "colab": {
      "provenance": [],
      "include_colab_link": true
    }
  },
  "nbformat": 4,
  "nbformat_minor": 0
}