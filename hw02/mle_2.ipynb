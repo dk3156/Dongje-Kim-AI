{
 "cells": [
  {
   "cell_type": "markdown",
   "metadata": {},
   "source": [
    "# Bike Rides and the Poisson Model\n",
    "\n",
    "To help the urban planners, you are called to model the daily bike rides in NYC using [this dataset](https://gist.github.com/sachinsdate/c17931a3f000492c1c42cf78bf4ce9fe/archive/7a5131d3f02575668b3c7e8c146b6a285acd2cd7.zip).  The dataset contains date, day of the week, high and low temp, precipitation and bike ride couunts as columns. \n",
    "\n"
   ]
  },
  {
   "attachments": {},
   "cell_type": "markdown",
   "metadata": {},
   "source": [
    "## Maximum Likelihood I \n",
    " \n",
    "The obvious choice in distributions is the [Poisson distribution](https://en.wikipedia.org/wiki/Poisson_distribution) which depends only on one parameter, λ, which is the average number of occurrences per interval. We want to estimate this parameter using Maximum Likelihood Estimation.\n",
    "\n",
    "Implement a Gradient Descent algorithm from scratch that will estimate the Poisson distribution according to the Maximum Likelihood criterion. Plot the estimated mean vs iterations to showcase convergence towards the true mean. \n",
    "\n",
    "References: \n",
    "\n",
    "1. [This blog post](https://towardsdatascience.com/the-poisson-process-everything-you-need-to-know-322aa0ab9e9a). \n",
    "\n",
    "2. [This blog post](https://towardsdatascience.com/understanding-maximum-likelihood-estimation-fa495a03017a) and note the negative  log likelihood function.  \n"
   ]
  },
  {
   "cell_type": "code",
   "execution_count": 20,
   "metadata": {},
   "outputs": [
    {
     "data": {
      "image/png": "[encoded data removed]",
      "text/plain": [
       "<Figure size 640x480 with 1 Axes>"
      ]
     },
     "metadata": {},
     "output_type": "display_data"
    }
   ],
   "source": [
    "\n",
    "import numpy as np\n",
    "import matplotlib.pyplot as plt\n",
    "\n",
    "# Path of the file to read\n",
    "filepath = \"./nyc_bb_bicyclist_counts.csv\"\n",
    "\n",
    "#derivative of negative log likelihood for poission\n",
    "def get_gradient(lam, data):\n",
    "    n = len(data)\n",
    "    return n - (1/lam) * sum(data)\n",
    "\n",
    "data = np.loadtxt(filepath, delimiter=\",\", dtype=\"int\", usecols=(4), skiprows=1)\n",
    "mean = sum(data) / len(data)\n",
    "lams = []\n",
    "means = []\n",
    "lam = 1\n",
    "for i in range(10000):\n",
    "    means.append(mean)\n",
    "    lams.append(lam)\n",
    "    lam = lam - 0.01 * get_gradient(lam, data)\n",
    "    \n",
    "plt.plot(means)\n",
    "plt.plot(lams)\n",
    "plt.show()\n"
   ]
  },
  {
   "attachments": {},
   "cell_type": "markdown",
   "metadata": {},
   "source": [
    "## Maximum Likelihood II\n",
    "\n",
    "A colleague of yours suggest that the parameter $\\lambda$ must be itself dependent on the weather and other factors since people bike when its not raining. Assume that you model $\\lambda$ as \n",
    "\n",
    "$$\\lambda_i = \\exp(\\mathbf w^T \\mathbf x_i)$$\n",
    "\n",
    "where $\\mathbf x_i$ is one of the example features and $\\mathbf w$ is a set of parameters. \n",
    "\n",
    "Train the model with SGD with this assumption and compare the MSE of the predictions with the `Maximum Likelihood I` approach. \n",
    "\n",
    "You may want to use [this partial derivative of the log likelihood function](http://home.cc.umanitoba.ca/~godwinrt/7010/poissonregression.pdf)"
   ]
  },
  {
   "cell_type": "code",
   "execution_count": 23,
   "metadata": {},
   "outputs": [
    {
     "name": "stderr",
     "output_type": "stream",
     "text": [
      "/var/folders/mk/p5y6cznx60788rys6_dnljxm0000gn/T/ipykernel_47672/4142286007.py:70: RuntimeWarning: overflow encountered in exp\n",
      "  y = np.exp(np.dot(X, w_true))\n"
     ]
    },
    {
     "ename": "IndexError",
     "evalue": "tuple index out of range",
     "output_type": "error",
     "traceback": [
      "\u001b[0;31m---------------------------------------------------------------------------\u001b[0m",
      "\u001b[0;31mIndexError\u001b[0m                                Traceback (most recent call last)",
      "Cell \u001b[0;32mIn[23], line 72\u001b[0m\n\u001b[1;32m     69\u001b[0m w_true \u001b[39m=\u001b[39m np\u001b[39m.\u001b[39marray(w_true)\n\u001b[1;32m     70\u001b[0m y \u001b[39m=\u001b[39m np\u001b[39m.\u001b[39mexp(np\u001b[39m.\u001b[39mdot(X, w_true))\n\u001b[0;32m---> 72\u001b[0m w, loss_trace, weight_trace \u001b[39m=\u001b[39m learn_weights(X, y, alpha\u001b[39m=\u001b[39;49malpha, max_iter\u001b[39m=\u001b[39;49m\u001b[39m1000\u001b[39;49m)\n\u001b[1;32m     73\u001b[0m plot_traces(w, loss_trace, weight_trace, alpha\u001b[39m=\u001b[39malpha)\n\u001b[1;32m     74\u001b[0m \u001b[39mprint\u001b[39m(w)\n",
      "Cell \u001b[0;32mIn[23], line 18\u001b[0m, in \u001b[0;36mlearn_weights\u001b[0;34m(X, y, alpha, max_iter, debug)\u001b[0m\n\u001b[1;32m     17\u001b[0m \u001b[39mdef\u001b[39;00m \u001b[39mlearn_weights\u001b[39m(X, y, alpha\u001b[39m=\u001b[39m\u001b[39m0.05\u001b[39m, max_iter\u001b[39m=\u001b[39m\u001b[39m30000\u001b[39m, debug\u001b[39m=\u001b[39m\u001b[39mFalse\u001b[39;00m):\n\u001b[0;32m---> 18\u001b[0m     w \u001b[39m=\u001b[39m np\u001b[39m.\u001b[39marray([\u001b[39m0.0\u001b[39m \u001b[39mfor\u001b[39;00m _ \u001b[39min\u001b[39;00m \u001b[39mrange\u001b[39m(X\u001b[39m.\u001b[39;49mshape[\u001b[39m1\u001b[39;49m])])\n\u001b[1;32m     20\u001b[0m     \u001b[39mif\u001b[39;00m debug \u001b[39mis\u001b[39;00m \u001b[39mTrue\u001b[39;00m:\n\u001b[1;32m     21\u001b[0m         \u001b[39mprint\u001b[39m(\u001b[39m'\u001b[39m\u001b[39minitial weights = \u001b[39m\u001b[39m{}\u001b[39;00m\u001b[39m'\u001b[39m\u001b[39m.\u001b[39mformat(w))\n",
      "\u001b[0;31mIndexError\u001b[0m: tuple index out of range"
     ]
    }
   ],
   "source": [
    "import numpy as np\n",
    "\n",
    "def get_gradient(lam, data):\n",
    "    n = len(data)\n",
    "    return n - (1/lam) * sum(data)\n",
    "\n",
    "# define the loss function\n",
    "def loss(w, X, y):\n",
    "    y_pred = np.exp(np.dot(X, w))\n",
    "    loss = ((y_pred - y) ** 2.0)\n",
    "    return loss.mean(axis=None)\n",
    "\n",
    "def grad_loss(w, X, y):\n",
    "    y_hat = np.exp(np.dot(X, w))\n",
    "    return -2*np.dot((y - y_hat)*y_hat, X)\n",
    "\n",
    "def learn_weights(X, y, alpha=0.05, max_iter=30000, debug=False):\n",
    "    w = np.array([0.0 for _ in range(X.shape[1])])\n",
    "\n",
    "    if debug is True:\n",
    "        print('initial weights = {}'.format(w))\n",
    "\n",
    "    loss_trace = []\n",
    "    weight_trace = []\n",
    "\n",
    "    for i in range(max_iter):\n",
    "        loss = grad_loss(w, X, y)\n",
    "        w = w - (loss * alpha)\n",
    "        if i % 2000 == 0 and debug is True:\n",
    "            print('{}: loss = {}, weights = {}'.format(i, loss, w))\n",
    "\n",
    "        loss_trace.append(loss)\n",
    "        weight_trace.append(w)\n",
    "\n",
    "    if debug is True:\n",
    "        print('intercept + weights: {}'.format(w))\n",
    "\n",
    "    loss_trace = np.array(loss_trace)\n",
    "    weight_trace = np.array(weight_trace)\n",
    "\n",
    "    return w, loss_trace, weight_trace\n",
    "\n",
    "def plot_traces(w, loss_trace, weight_trace, alpha):\n",
    "    fig, ax = plt.subplots(1, 2, figsize=(20, 5))\n",
    "\n",
    "    ax[0].set_title(r'Log-loss of the weights over iterations, $\\alpha=${}'.format(alpha))\n",
    "    ax[0].set_xlabel('iteration')\n",
    "    ax[0].set_ylabel('log-loss')\n",
    "    ax[0].plot(loss_trace[:, 0], label=r'$\\beta$')\n",
    "    ax[0].plot(loss_trace[:, 1], label=r'$x_0$')\n",
    "    ax[0].plot(loss_trace[:, 2], label=r'$x_1$')\n",
    "    ax[0].legend()\n",
    "\n",
    "    ax[1].set_title(r'Weight learning over iterations, $\\alpha=${}'.format(alpha))\n",
    "    ax[1].set_xlabel('iteration')\n",
    "    ax[1].set_ylabel('weight')\n",
    "    ax[1].plot(weight_trace[:, 0], label=r'$\\beta={:.2f}$'.format(w[0]))\n",
    "    ax[1].plot(weight_trace[:, 1], label=r'$x_0={:.2f}$'.format(w[1]))\n",
    "    ax[1].plot(weight_trace[:, 2], label=r'$x_1={:.2f}$'.format(w[2]))\n",
    "    ax[1].legend()\n",
    "    \n",
    "filepath = \"./nyc_bb_bicyclist_counts.csv\"\n",
    "alpha = 0.001\n",
    "X = np.loadtxt(filepath, delimiter=\",\", dtype=\"int\", usecols=(4), skiprows=1)\n",
    "w_true = []\n",
    "for i in range(len(X)):\n",
    "    w_true.append(lam)\n",
    "    lam = lam - 0.01 * get_gradient(lam, data)\n",
    "w_true = np.array(w_true)\n",
    "y = np.exp(np.dot(X, w_true))\n",
    "\n",
    "w, loss_trace, weight_trace = learn_weights(X, y, alpha=alpha, max_iter=1000)\n",
    "plot_traces(w, loss_trace, weight_trace, alpha=alpha)\n",
    "print(w)"
   ]
  }
 ],
 "metadata": {
  "kernelspec": {
   "display_name": "Python 3",
   "language": "python",
   "name": "python3"
  },
  "language_info": {
   "codemirror_mode": {
    "name": "ipython",
    "version": 3
   },
   "file_extension": ".py",
   "mimetype": "text/x-python",
   "name": "python",
   "nbconvert_exporter": "python",
   "pygments_lexer": "ipython3",
   "version": "3.10.8"
  },
  "orig_nbformat": 4,
  "vscode": {
   "interpreter": {
    "hash": "aee8b7b246df8f9039afb4144a1f6fd8d2ca17a180786b69acc140d282b71a49"
   }
  }
 },
 "nbformat": 4,
 "nbformat_minor": 2
}
